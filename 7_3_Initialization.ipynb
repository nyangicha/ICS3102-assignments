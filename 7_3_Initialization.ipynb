{
  "cells": [
    {
      "cell_type": "markdown",
      "metadata": {
        "colab_type": "text",
        "id": "view-in-github"
      },
      "source": [
        "<a href=\"https://colab.research.google.com/github/udlbook/udlbook/blob/main/Notebooks/Chap07/7_3_Initialization.ipynb\" target=\"_parent\"><img src=\"https://colab.research.google.com/assets/colab-badge.svg\" alt=\"Open In Colab\"/></a>"
      ]
    },
    {
      "cell_type": "markdown",
      "metadata": {
        "id": "L6chybAVFJW2"
      },
      "source": [
        "# **Notebook 7.3: Initialization**\n",
        "\n",
        "This notebook explores weight initialization in deep neural networks as described in section 7.5 of the book.\n",
        "\n",
        "Work through the cells below, running each cell in turn. In various places you will see the words \"TO DO\". Follow the instructions at these places and make predictions about what is going to happen or write code to complete the functions.\n",
        "\n",
        "Contact me at udlbookmail@gmail.com if you find any mistakes or have any suggestions."
      ]
    },
    {
      "cell_type": "code",
      "execution_count": 1,
      "metadata": {
        "id": "LdIDglk1FFcG"
      },
      "outputs": [],
      "source": [
        "import numpy as np\n",
        "import matplotlib.pyplot as plt"
      ]
    },
    {
      "cell_type": "markdown",
      "metadata": {
        "id": "nnUoI0m6GyjC"
      },
      "source": [
        "First let's define a neural network.  We'll just choose the weights and biases randomly for now"
      ]
    },
    {
      "cell_type": "code",
      "execution_count": 2,
      "metadata": {
        "id": "WVM4Tc_jGI0Q"
      },
      "outputs": [],
      "source": [
        "def init_params(K, D, sigma_sq_omega):\n",
        "  # Set seed so we always get the same random numbers\n",
        "  np.random.seed(0)\n",
        "\n",
        "  # Input layer\n",
        "  D_i = 1\n",
        "  # Output layer\n",
        "  D_o = 1\n",
        "\n",
        "  # Make empty lists\n",
        "  all_weights = [None] * (K+1)\n",
        "  all_biases = [None] * (K+1)\n",
        "\n",
        "  # Create input and output layers\n",
        "  all_weights[0] = np.random.normal(size=(D, D_i))*np.sqrt(sigma_sq_omega)\n",
        "  all_weights[-1] = np.random.normal(size=(D_o, D)) * np.sqrt(sigma_sq_omega)\n",
        "  all_biases[0] = np.zeros((D,1))\n",
        "  all_biases[-1]= np.zeros((D_o,1))\n",
        "\n",
        "  # Create intermediate layers\n",
        "  for layer in range(1,K):\n",
        "    all_weights[layer] = np.random.normal(size=(D,D))*np.sqrt(sigma_sq_omega)\n",
        "    all_biases[layer] = np.zeros((D,1))\n",
        "\n",
        "  return all_weights, all_biases"
      ]
    },
    {
      "cell_type": "code",
      "execution_count": 3,
      "metadata": {
        "id": "jZh-7bPXIDq4"
      },
      "outputs": [],
      "source": [
        "# Define the Rectified Linear Unit (ReLU) function\n",
        "def ReLU(preactivation):\n",
        "  activation = preactivation.clip(0.0)\n",
        "  return activation"
      ]
    },
    {
      "cell_type": "code",
      "execution_count": 4,
      "metadata": {
        "id": "LgquJUJvJPaN"
      },
      "outputs": [],
      "source": [
        "def compute_network_output(net_input, all_weights, all_biases):\n",
        "\n",
        "  # Retrieve number of layers\n",
        "  K = len(all_weights)-1\n",
        "\n",
        "  # We'll store the pre-activations at each layer in a list \"all_f\"\n",
        "  # and the activations in a second list \"all_h\".\n",
        "  all_f = [None] * (K+1)\n",
        "  all_h = [None] * (K+1)\n",
        "\n",
        "  #For convenience, we'll set\n",
        "  # all_h[0] to be the input, and all_f[K] will be the output\n",
        "  all_h[0] = net_input\n",
        "\n",
        "  # Run through the layers, calculating all_f[0...K-1] and all_h[1...K]\n",
        "  for layer in range(K):\n",
        "      # Update preactivations and activations at this layer according to eqn 7.5\n",
        "      all_f[layer] = all_biases[layer] + np.matmul(all_weights[layer], all_h[layer])\n",
        "      all_h[layer+1] = ReLU(all_f[layer])\n",
        "\n",
        "  # Compute the output from the last hidden layer\n",
        "  all_f[K] = all_biases[K] + np.matmul(all_weights[K], all_h[K])\n",
        "\n",
        "  # Retrieve the output\n",
        "  net_output = all_f[K]\n",
        "\n",
        "  return net_output, all_f, all_h"
      ]
    },
    {
      "cell_type": "markdown",
      "metadata": {
        "id": "bIUrcXnOqChl"
      },
      "source": [
        "Now let's investigate how the size of the outputs vary as we change the initialization variance:\n"
      ]
    },
    {
      "cell_type": "code",
      "execution_count": 5,
      "metadata": {
        "id": "A55z3rKBqO7M"
      },
      "outputs": [
        {
          "name": "stdout",
          "output_type": "stream",
          "text": [
            "Layer 1, std of hidden units = 0.811\n",
            "Layer 2, std of hidden units = 1.472\n",
            "Layer 3, std of hidden units = 4.547\n",
            "Layer 4, std of hidden units = 8.896\n",
            "Layer 5, std of hidden units = 10.106\n"
          ]
        }
      ],
      "source": [
        "# Number of layers\n",
        "K = 5\n",
        "# Number of neurons per layer\n",
        "D = 8\n",
        "# Input layer\n",
        "D_i = 1\n",
        "# Output layer\n",
        "D_o = 1\n",
        "# Set variance of initial weights to 1\n",
        "sigma_sq_omega = 1.0\n",
        "# Initialize parameters\n",
        "all_weights, all_biases = init_params(K,D,sigma_sq_omega)\n",
        "\n",
        "n_data = 1000\n",
        "data_in = np.random.normal(size=(1,n_data))\n",
        "net_output, all_f, all_h = compute_network_output(data_in, all_weights, all_biases)\n",
        "\n",
        "for layer in range(1,K+1):\n",
        "  print(\"Layer %d, std of hidden units = %3.3f\"%(layer, np.std(all_h[layer])))"
      ]
    },
    {
      "cell_type": "code",
      "execution_count": 6,
      "metadata": {
        "id": "VL_SO4tar3DC"
      },
      "outputs": [
        {
          "name": "stdout",
          "output_type": "stream",
          "text": [
            "Forward Pass: Variance of Hidden Units\n",
            "Layer 1, std of hidden units = 0.440\n",
            "Layer 2, std of hidden units = 1.554\n",
            "Layer 3, std of hidden units = 7.451\n",
            "Layer 4, std of hidden units = 40.409\n",
            "Layer 5, std of hidden units = 198.977\n",
            "Layer 6, std of hidden units = 789.884\n",
            "Layer 7, std of hidden units = 3294.734\n",
            "Layer 8, std of hidden units = 15211.738\n",
            "Layer 9, std of hidden units = 59212.911\n",
            "Layer 10, std of hidden units = 230194.825\n",
            "Layer 11, std of hidden units = 1082893.681\n",
            "Layer 12, std of hidden units = 4263208.854\n",
            "Layer 13, std of hidden units = 18584131.634\n",
            "Layer 14, std of hidden units = 83333064.506\n",
            "Layer 15, std of hidden units = 365145209.185\n",
            "Layer 16, std of hidden units = 1678394559.576\n",
            "Layer 17, std of hidden units = 7980390441.870\n",
            "Layer 18, std of hidden units = 38323787924.382\n",
            "Layer 19, std of hidden units = 168197173156.557\n",
            "Layer 20, std of hidden units = 976451981917.842\n",
            "Layer 21, std of hidden units = 3683592624936.054\n",
            "Layer 22, std of hidden units = 16517392987177.471\n",
            "Layer 23, std of hidden units = 77838678619638.219\n",
            "Layer 24, std of hidden units = 397417141225651.938\n",
            "Layer 25, std of hidden units = 1945193552896355.250\n",
            "Layer 26, std of hidden units = 8254981069560753.000\n",
            "Layer 27, std of hidden units = 31503246324549632.000\n",
            "Layer 28, std of hidden units = 136759378836159424.000\n",
            "Layer 29, std of hidden units = 759235842906817792.000\n",
            "Layer 30, std of hidden units = 3893180416891245568.000\n",
            "Layer 31, std of hidden units = 14526918903979028480.000\n",
            "Layer 32, std of hidden units = 45989470015758434304.000\n",
            "Layer 33, std of hidden units = 194839339879307247616.000\n",
            "Layer 34, std of hidden units = 868563408573334814720.000\n",
            "Layer 35, std of hidden units = 4012480596707280158720.000\n",
            "Layer 36, std of hidden units = 16068206725728395329536.000\n",
            "Layer 37, std of hidden units = 78670797343978420174848.000\n",
            "Layer 38, std of hidden units = 302001853790279694286848.000\n",
            "Layer 39, std of hidden units = 1345617625523096695865344.000\n",
            "Layer 40, std of hidden units = 6129058811372897078083584.000\n",
            "Layer 41, std of hidden units = 29515140763361744707911680.000\n",
            "Layer 42, std of hidden units = 144713940300707521380745216.000\n",
            "Layer 43, std of hidden units = 598869059452182015116312576.000\n",
            "Layer 44, std of hidden units = 2839199309933183085454557184.000\n",
            "Layer 45, std of hidden units = 15043317943363292635215167488.000\n",
            "Layer 46, std of hidden units = 64032351408184905363747766272.000\n",
            "Layer 47, std of hidden units = 303307188006364494065672650752.000\n",
            "Layer 48, std of hidden units = 1144154857474784370524971597824.000\n",
            "Layer 49, std of hidden units = 4729262832056766356664321310720.000\n",
            "Layer 50, std of hidden units = 22447660650504441463580162785280.000\n",
            "\n",
            "After Adjusting sigma_sq_omega:\n",
            "Layer 1, std of hidden units = 0.208\n",
            "Layer 2, std of hidden units = 0.347\n",
            "Layer 3, std of hidden units = 0.788\n",
            "Layer 4, std of hidden units = 2.020\n",
            "Layer 5, std of hidden units = 4.705\n",
            "Layer 6, std of hidden units = 8.831\n",
            "Layer 7, std of hidden units = 17.419\n",
            "Layer 8, std of hidden units = 38.029\n",
            "Layer 9, std of hidden units = 70.000\n",
            "Layer 10, std of hidden units = 128.683\n",
            "Layer 11, std of hidden units = 286.255\n",
            "Layer 12, std of hidden units = 532.901\n",
            "Layer 13, std of hidden units = 1098.487\n",
            "Layer 14, std of hidden units = 2329.230\n",
            "Layer 15, std of hidden units = 4826.176\n",
            "Layer 16, std of hidden units = 10489.966\n",
            "Layer 17, std of hidden units = 23585.585\n",
            "Layer 18, std of hidden units = 53559.122\n",
            "Layer 19, std of hidden units = 111154.286\n",
            "Layer 20, std of hidden units = 305141.244\n",
            "Layer 21, std of hidden units = 544332.315\n",
            "Layer 22, std of hidden units = 1154187.923\n",
            "Layer 23, std of hidden units = 2572011.936\n",
            "Layer 24, std of hidden units = 6209642.832\n",
            "Layer 25, std of hidden units = 14372269.379\n",
            "Layer 26, std of hidden units = 28841716.913\n",
            "Layer 27, std of hidden units = 52047855.264\n",
            "Layer 28, std of hidden units = 106843264.716\n",
            "Layer 29, std of hidden units = 280484737.376\n",
            "Layer 30, std of hidden units = 680110629.753\n",
            "Layer 31, std of hidden units = 1200027077.766\n",
            "Layer 32, std of hidden units = 1796463672.491\n",
            "Layer 33, std of hidden units = 3598977945.206\n",
            "Layer 34, std of hidden units = 7586589157.574\n",
            "Layer 35, std of hidden units = 16572975304.965\n",
            "Layer 36, std of hidden units = 31383216261.188\n",
            "Layer 37, std of hidden units = 72658443810.212\n",
            "Layer 38, std of hidden units = 131893881719.925\n",
            "Layer 39, std of hidden units = 277894025157.665\n",
            "Layer 40, std of hidden units = 598540899548.132\n",
            "Layer 41, std of hidden units = 1362973472436.370\n",
            "Layer 42, std of hidden units = 3160060623088.155\n",
            "Layer 43, std of hidden units = 6183856777621.225\n",
            "Layer 44, std of hidden units = 13863277880533.064\n",
            "Layer 45, std of hidden units = 34734110635992.883\n",
            "Layer 46, std of hidden units = 69912446537038.695\n",
            "Layer 47, std of hidden units = 156595851851998.562\n",
            "Layer 48, std of hidden units = 279334682000678.531\n",
            "Layer 49, std of hidden units = 545979082054231.125\n",
            "Layer 50, std of hidden units = 1225451541757198.500\n"
          ]
        }
      ],
      "source": [
        "# You can see that the values of the hidden units are increasing on average (the variance is across all hidden units at the layer\n",
        "# and the 1000 training examples\n",
        "\n",
        "# TO DO\n",
        "# Change this to 50 layers with 80 hidden units per layer\n",
        "K = 50\n",
        "D = 80\n",
        "# Initial variance of weights\n",
        "sigma_sq_omega = 0.5  \n",
        "# Initialize parameters\n",
        "all_weights, all_biases = init_params(K, D, sigma_sq_omega)\n",
        "# Forward pass\n",
        "n_data = 1000\n",
        "data_in = np.random.normal(size=(1, n_data))\n",
        "net_output, all_f, all_h = compute_network_output(data_in, all_weights, all_biases)\n",
        "\n",
        "print(\"Forward Pass: Variance of Hidden Units\")\n",
        "for layer in range(1, K + 1):\n",
        "    print(f\"Layer {layer}, std of hidden units = {np.std(all_h[layer]):.3f}\")\n",
        "\n",
        "# TO DO\n",
        "# Now experiment with sigma_sq_omega to try to stop the variance of the forward computation exploding\n",
        "# Adjust sigma_sq_omega to stabilize variance\n",
        "sigma_sq_omega = 1 / np.sqrt(D)\n",
        "all_weights, all_biases = init_params(K, D, sigma_sq_omega)\n",
        "\n",
        "# Forward pass after adjustment\n",
        "net_output, all_f, all_h = compute_network_output(data_in, all_weights, all_biases)\n",
        "print(\"\\nAfter Adjusting sigma_sq_omega:\")\n",
        "for layer in range(1, K + 1):\n",
        "    print(f\"Layer {layer}, std of hidden units = {np.std(all_h[layer]):.3f}\")"
      ]
    },
    {
      "cell_type": "markdown",
      "metadata": {
        "id": "SxVTKp3IcoBF"
      },
      "source": [
        "Now let's define a loss function.  We'll just use the least squares loss function. We'll also write a function to compute dloss_doutput\n"
      ]
    },
    {
      "cell_type": "code",
      "execution_count": 7,
      "metadata": {
        "id": "6XqWSYWJdhQR"
      },
      "outputs": [],
      "source": [
        "def least_squares_loss(net_output, y):\n",
        "  return np.sum((net_output-y) * (net_output-y))\n",
        "\n",
        "def d_loss_d_output(net_output, y):\n",
        "    return 2*(net_output -y);"
      ]
    },
    {
      "cell_type": "markdown",
      "metadata": {
        "id": "98WmyqFYWA-0"
      },
      "source": [
        "Here's the code for the backward pass"
      ]
    },
    {
      "cell_type": "code",
      "execution_count": 8,
      "metadata": {
        "id": "LJng7WpRPLMz"
      },
      "outputs": [],
      "source": [
        "# We'll need the indicator function\n",
        "def indicator_function(x):\n",
        "  x_in = np.array(x)\n",
        "  x_in[x_in>=0] = 1\n",
        "  x_in[x_in<0] = 0\n",
        "  return x_in\n",
        "\n",
        "# Main backward pass routine\n",
        "def backward_pass(all_weights, all_biases, all_f, all_h, y):\n",
        "  # Retrieve number of layers\n",
        "  K = len(all_weights) - 1\n",
        "\n",
        "  # We'll store the derivatives dl_dweights and dl_dbiases in lists as well\n",
        "  all_dl_dweights = [None] * (K+1)\n",
        "  all_dl_dbiases = [None] * (K+1)\n",
        "  # And we'll store the derivatives of the loss with respect to the activation and preactivations in lists\n",
        "  all_dl_df = [None] * (K+1)\n",
        "  all_dl_dh = [None] * (K+1)\n",
        "  # Again for convenience we'll stick with the convention that all_h[0] is the net input and all_f[k] in the net output\n",
        "\n",
        "  # Compute derivatives of net output with respect to loss\n",
        "  all_dl_df[K] = np.array(d_loss_d_output(all_f[K],y))\n",
        "\n",
        "  # Now work backwards through the network\n",
        "  for layer in range(K,-1,-1):\n",
        "    # Calculate the derivatives of biases at layer from all_dl_df[K]. (eq 7.13, line 1)\n",
        "    all_dl_dbiases[layer] = np.array(all_dl_df[layer])\n",
        "    # Calculate the derivatives of weight at layer from all_dl_df[K] and all_h[K] (eq 7.13, line 2)\n",
        "    all_dl_dweights[layer] = np.matmul(all_dl_df[layer], all_h[layer].transpose())\n",
        "\n",
        "    # Calculate the derivatives of activations from weight and derivatives of next preactivations (eq 7.13, line 3 second part)\n",
        "    all_dl_dh[layer] = np.matmul(all_weights[layer].transpose(), all_dl_df[layer])\n",
        "    # Calculate the derivatives of the pre-activation f with respect to activation h (eq 7.13, line 3, first part)\n",
        "    if layer > 0:\n",
        "      all_dl_df[layer-1] = indicator_function(all_f[layer-1]) * all_dl_dh[layer]\n",
        "\n",
        "  return all_dl_dweights, all_dl_dbiases, all_dl_dh, all_dl_df"
      ]
    },
    {
      "cell_type": "markdown",
      "metadata": {
        "id": "phFnbthqwhFi"
      },
      "source": [
        "Now let's look at what happens to the magnitude of the gradients on the way back."
      ]
    },
    {
      "cell_type": "code",
      "execution_count": 9,
      "metadata": {
        "id": "9A9MHc4sQvbp"
      },
      "outputs": [
        {
          "name": "stdout",
          "output_type": "stream",
          "text": [
            "Layer 1, std of dl_dh = 446.654\n",
            "Layer 2, std of dl_dh = 340.657\n",
            "Layer 3, std of dl_dh = 109.132\n",
            "Layer 4, std of dl_dh = 56.472\n"
          ]
        }
      ],
      "source": [
        "# Number of layers\n",
        "K = 5\n",
        "# Number of neurons per layer\n",
        "D = 8\n",
        "# Input layer\n",
        "D_i = 1\n",
        "# Output layer\n",
        "D_o = 1\n",
        "# Set variance of initial weights to 1\n",
        "sigma_sq_omega = 1.0\n",
        "# Initialize parameters\n",
        "all_weights, all_biases = init_params(K,D,sigma_sq_omega)\n",
        "\n",
        "# For simplicity we'll just consider the gradients of the weights and biases between the first and last hidden layer\n",
        "n_data = 100\n",
        "aggregate_dl_df = [None] * (K+1)\n",
        "for layer in range(1,K):\n",
        "  # These 3D arrays will store the gradients for every data point\n",
        "  aggregate_dl_df[layer] = np.zeros((D,n_data))\n",
        "\n",
        "\n",
        "# We'll have to compute the derivatives of the parameters for each data point separately\n",
        "for c_data in range(n_data):\n",
        "  data_in = np.random.normal(size=(1,1))\n",
        "  y = np.zeros((1,1))\n",
        "  net_output, all_f, all_h = compute_network_output(data_in, all_weights, all_biases)\n",
        "  all_dl_dweights, all_dl_dbiases, all_dl_dh, all_dl_df = backward_pass(all_weights, all_biases, all_f, all_h, y)\n",
        "  for layer in range(1,K):\n",
        "    aggregate_dl_df[layer][:,c_data] = np.squeeze(all_dl_df[layer])\n",
        "\n",
        "for layer in range(1,K):\n",
        "  print(\"Layer %d, std of dl_dh = %3.3f\"%(layer, np.std(aggregate_dl_df[layer].ravel())))\n"
      ]
    },
    {
      "cell_type": "code",
      "execution_count": 12,
      "metadata": {
        "id": "gtokc0VX0839"
      },
      "outputs": [
        {
          "name": "stdout",
          "output_type": "stream",
          "text": [
            "Backward Pass: Variance of Hidden Units\n",
            "Layer 1, std of hidden units = 0.440\n",
            "Layer 2, std of hidden units = 1.554\n",
            "Layer 3, std of hidden units = 7.451\n",
            "Layer 4, std of hidden units = 40.409\n",
            "Layer 5, std of hidden units = 198.977\n",
            "Layer 6, std of hidden units = 789.884\n",
            "Layer 7, std of hidden units = 3294.734\n",
            "Layer 8, std of hidden units = 15211.738\n",
            "Layer 9, std of hidden units = 59212.911\n",
            "Layer 10, std of hidden units = 230194.825\n",
            "Layer 11, std of hidden units = 1082893.681\n",
            "Layer 12, std of hidden units = 4263208.854\n",
            "Layer 13, std of hidden units = 18584131.634\n",
            "Layer 14, std of hidden units = 83333064.506\n",
            "Layer 15, std of hidden units = 365145209.185\n",
            "Layer 16, std of hidden units = 1678394559.576\n",
            "Layer 17, std of hidden units = 7980390441.870\n",
            "Layer 18, std of hidden units = 38323787924.382\n",
            "Layer 19, std of hidden units = 168197173156.557\n",
            "Layer 20, std of hidden units = 976451981917.842\n",
            "Layer 21, std of hidden units = 3683592624936.054\n",
            "Layer 22, std of hidden units = 16517392987177.471\n",
            "Layer 23, std of hidden units = 77838678619638.219\n",
            "Layer 24, std of hidden units = 397417141225651.938\n",
            "Layer 25, std of hidden units = 1945193552896355.250\n",
            "Layer 26, std of hidden units = 8254981069560753.000\n",
            "Layer 27, std of hidden units = 31503246324549632.000\n",
            "Layer 28, std of hidden units = 136759378836159424.000\n",
            "Layer 29, std of hidden units = 759235842906817792.000\n",
            "Layer 30, std of hidden units = 3893180416891245568.000\n",
            "Layer 31, std of hidden units = 14526918903979028480.000\n",
            "Layer 32, std of hidden units = 45989470015758434304.000\n",
            "Layer 33, std of hidden units = 194839339879307247616.000\n",
            "Layer 34, std of hidden units = 868563408573334814720.000\n",
            "Layer 35, std of hidden units = 4012480596707280158720.000\n",
            "Layer 36, std of hidden units = 16068206725728395329536.000\n",
            "Layer 37, std of hidden units = 78670797343978420174848.000\n",
            "Layer 38, std of hidden units = 302001853790279694286848.000\n",
            "Layer 39, std of hidden units = 1345617625523096695865344.000\n",
            "Layer 40, std of hidden units = 6129058811372897078083584.000\n",
            "Layer 41, std of hidden units = 29515140763361744707911680.000\n",
            "Layer 42, std of hidden units = 144713940300707521380745216.000\n",
            "Layer 43, std of hidden units = 598869059452182015116312576.000\n",
            "Layer 44, std of hidden units = 2839199309933183085454557184.000\n",
            "Layer 45, std of hidden units = 15043317943363292635215167488.000\n",
            "Layer 46, std of hidden units = 64032351408184905363747766272.000\n",
            "Layer 47, std of hidden units = 303307188006364494065672650752.000\n",
            "Layer 48, std of hidden units = 1144154857474784370524971597824.000\n",
            "Layer 49, std of hidden units = 4729262832056766356664321310720.000\n",
            "Layer 50, std of hidden units = 22447660650504441463580162785280.000\n",
            "\n",
            "Backward Pass: Variance of Gradients\n",
            "Layer 1, std of dl_dh = 3435574211308108614141603567860288702391426791275226023652753408.000\n",
            "Layer 2, std of dl_dh = 815925923510993714636955454125836969858783880505353728662962176.000\n",
            "Layer 3, std of dl_dh = 211120531467089597378591628140088995982850791860395239029080064.000\n",
            "Layer 4, std of dl_dh = 46721384686677987164747554428416305068829451748950551671341056.000\n",
            "Layer 5, std of dl_dh = 9640236396981894251558968893837597980339829089217923390636032.000\n",
            "Layer 6, std of dl_dh = 2212989447410812083575435298993277685771119397949381445419008.000\n",
            "Layer 7, std of dl_dh = 525334511541908931761884047240242826899341966620625674960896.000\n",
            "Layer 8, std of dl_dh = 104668866204260467213802901421357706593899383793809482579968.000\n",
            "Layer 9, std of dl_dh = 22966722445813303030697283479032274525710851055075987554304.000\n",
            "Layer 10, std of dl_dh = 5760348891545058651571519595005379803452617803748874387456.000\n",
            "Layer 11, std of dl_dh = 1333643220511442457963533215569292526284484513516172083200.000\n",
            "Layer 12, std of dl_dh = 293615897100563083840575674448710329023288154217059975168.000\n",
            "Layer 13, std of dl_dh = 60116286918184892204468858913989801831486269278778294272.000\n",
            "Layer 14, std of dl_dh = 13901148086422419624655225231222827676560370931173687296.000\n",
            "Layer 15, std of dl_dh = 3235254993869388001267493065389920151836363072104038400.000\n",
            "Layer 16, std of dl_dh = 659061740104189921569751961133358528099860043180015616.000\n",
            "Layer 17, std of dl_dh = 126360884352432339041963661497045035018678600743256064.000\n",
            "Layer 18, std of dl_dh = 28850354637089824193075131395093314462178363784036352.000\n",
            "Layer 19, std of dl_dh = 5950879517644681271725175121355215341244676866834432.000\n",
            "Layer 20, std of dl_dh = 1637416493909388444075756815101634233894612521451520.000\n",
            "Layer 21, std of dl_dh = 348038417877754335573513921940678969175145097199616.000\n",
            "Layer 22, std of dl_dh = 69708997487315819464886120338613423618327421386752.000\n",
            "Layer 23, std of dl_dh = 15886623556072683802191820771944328030454959570944.000\n",
            "Layer 24, std of dl_dh = 3132011217316654750803071413467763284298948411392.000\n",
            "Layer 25, std of dl_dh = 719213957704088307850044687239009743157172633600.000\n",
            "Layer 26, std of dl_dh = 223254693767133567183029847173628292836274208768.000\n",
            "Layer 27, std of dl_dh = 42440540798583242574880793646310201061707612160.000\n",
            "Layer 28, std of dl_dh = 10496001095469081267611934140796799896409604096.000\n",
            "Layer 29, std of dl_dh = 2542561631768210599043841805158545749438365696.000\n",
            "Layer 30, std of dl_dh = 622050886733669287318814560101525839761375232.000\n",
            "Layer 31, std of dl_dh = 139391802540972729927368429584678995332431872.000\n",
            "Layer 32, std of dl_dh = 30024048935075775836982080356072772700471296.000\n",
            "Layer 33, std of dl_dh = 7030441668647051266560699481125276025356288.000\n",
            "Layer 34, std of dl_dh = 1826942995245207487064428243403228531654656.000\n",
            "Layer 35, std of dl_dh = 381248684590462464095028237079678218665984.000\n",
            "Layer 36, std of dl_dh = 82426632958741957103979986753207352164352.000\n",
            "Layer 37, std of dl_dh = 16110241739764851341851235594579942047744.000\n",
            "Layer 38, std of dl_dh = 3390680104765734119296139438265345245184.000\n",
            "Layer 39, std of dl_dh = 701513558025466738229603337129712156672.000\n",
            "Layer 40, std of dl_dh = 179160827071563322468896070115713351680.000\n",
            "Layer 41, std of dl_dh = 39308187755485788117305289763949903872.000\n",
            "Layer 42, std of dl_dh = 10336999301192047459705070462993170432.000\n",
            "Layer 43, std of dl_dh = 2540815160617078798406105644480331776.000\n",
            "Layer 44, std of dl_dh = 613557549804219105596205234391089152.000\n",
            "Layer 45, std of dl_dh = 150035565289473398871908906424074240.000\n",
            "Layer 46, std of dl_dh = 32424156768920624445803335518257152.000\n",
            "Layer 47, std of dl_dh = 7435989075953855479265191362822144.000\n",
            "Layer 48, std of dl_dh = 1514659011677722198218506835591168.000\n",
            "Layer 49, std of dl_dh = 285904799378792836789377729298432.000\n"
          ]
        }
      ],
      "source": [
        "# You can see that the gradients of the hidden units are increasing on average (the standard deviation is across all hidden units at the layer\n",
        "# and the 100 training examples\n",
        "\n",
        "# TO DO\n",
        "# Change this to 50 layers with 80 hidden units per layer\n",
        "K = 50\n",
        "D = 80\n",
        "sigma_sq_omega = 0.5  # Initial variance of weights\n",
        "\n",
        "# Initialize parameters\n",
        "all_weights, all_biases = init_params(K, D, sigma_sq_omega)\n",
        "\n",
        "# Backward pass\n",
        "n_data = 1000\n",
        "data_in = np.random.normal(size=(1, n_data))\n",
        "net_output, all_f, all_h = compute_network_output(data_in, all_weights, all_biases)\n",
        "\n",
        "print(\"Backward Pass: Variance of Hidden Units\")\n",
        "for layer in range(1, K + 1):\n",
        "    print(f\"Layer {layer}, std of hidden units = {np.std(all_h[layer]):.3f}\")\n",
        "\n",
        "# TO DO\n",
        "# Now experiment with sigma_sq_omega to try to stop the variance of the gradients exploding\n",
        "n_data = 100\n",
        "aggregate_dl_df = [None] * (K + 1)\n",
        "for layer in range(1, K):\n",
        "    aggregate_dl_df[layer] = np.zeros((D, n_data))\n",
        "\n",
        "for c_data in range(n_data):\n",
        "    data_in = np.random.normal(size=(1, 1))\n",
        "    y = np.zeros((1, 1))\n",
        "    net_output, all_f, all_h = compute_network_output(data_in, all_weights, all_biases)\n",
        "    all_dl_dweights, all_dl_dbiases, all_dl_dh, all_dl_df = backward_pass(all_weights, all_biases, all_f, all_h, y)\n",
        "    for layer in range(1, K):\n",
        "        aggregate_dl_df[layer][:, c_data] = np.squeeze(all_dl_df[layer])\n",
        "\n",
        "print(\"\\nBackward Pass: Variance of Gradients\")\n",
        "for layer in range(1, K):\n",
        "    print(f\"Layer {layer}, std of dl_dh = {np.std(aggregate_dl_df[layer].ravel()):.3f}\")\n",
        "\n"
      ]
    }
  ],
  "metadata": {
    "colab": {
      "include_colab_link": true,
      "provenance": []
    },
    "kernelspec": {
      "display_name": "logic2",
      "language": "python",
      "name": "python3"
    },
    "language_info": {
      "codemirror_mode": {
        "name": "ipython",
        "version": 3
      },
      "file_extension": ".py",
      "mimetype": "text/x-python",
      "name": "python",
      "nbconvert_exporter": "python",
      "pygments_lexer": "ipython3",
      "version": "3.13.0"
    }
  },
  "nbformat": 4,
  "nbformat_minor": 0
}
